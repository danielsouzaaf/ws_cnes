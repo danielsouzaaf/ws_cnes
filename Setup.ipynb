{
 "cells": [
  {
   "cell_type": "code",
   "execution_count": null,
   "metadata": {},
   "outputs": [],
   "source": [
    "##Instalar pacote de requisições SOAP\n",
    "import sys\n",
    "!{sys.executable} -m pip install zeep"
   ]
  },
  {
   "cell_type": "code",
   "execution_count": null,
   "metadata": {},
   "outputs": [],
   "source": [
    "##Instalar pacote Pandas para manipulação de CSV\n",
    "import sys\n",
    "!{sys.executable} -m pip install pandas"
   ]
  },
  {
   "cell_type": "code",
   "execution_count": 1,
   "metadata": {},
   "outputs": [],
   "source": [
    "import pandas"
   ]
  },
  {
   "cell_type": "code",
   "execution_count": 2,
   "metadata": {},
   "outputs": [],
   "source": [
    "##Criar as pastas que armazenarão os resultados\n",
    "data_frame = pandas.read_csv('listas/municipios.csv', sep=';')\n",
    "\n",
    "%mkdir 'resultados' 'resultados/AC' 'resultados/AL' 'resultados/AP' 'resultados/AM' 'resultados/BA' 'resultados/CE' 'resultados/DF' 'resultados/ES' 'resultados/GO' 'resultados/MA' 'resultados/MT' 'resultados/MS' 'resultados/MG' 'resultados/PA' 'resultados/PB' 'resultados/PR' 'resultados/PE' 'resultados/PI' 'resultados/RJ' 'resultados/RN' 'resultados/RS' 'resultados/RO' 'resultados/RR' 'resultados/SC' 'resultados/SP' 'resultados/SE' 'resultados/TO'\n",
    "    \n",
    "for row in data_frame.itertuples():\n",
    "    path = 'resultados/%s/%s' % (row.UF, row.MUNICIPIO) \n",
    "    %mkdir $path\n"
   ]
  },
  {
   "cell_type": "code",
   "execution_count": null,
   "metadata": {},
   "outputs": [],
   "source": []
  }
 ],
 "metadata": {
  "kernelspec": {
   "display_name": "Python 3",
   "language": "python",
   "name": "python3"
  },
  "language_info": {
   "codemirror_mode": {
    "name": "ipython",
    "version": 3
   },
   "file_extension": ".py",
   "mimetype": "text/x-python",
   "name": "python",
   "nbconvert_exporter": "python",
   "pygments_lexer": "ipython3",
   "version": "3.6.4"
  }
 },
 "nbformat": 4,
 "nbformat_minor": 2
}
