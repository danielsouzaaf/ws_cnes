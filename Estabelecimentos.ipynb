{
 "cells": [
  {
   "cell_type": "code",
   "execution_count": 1,
   "metadata": {},
   "outputs": [],
   "source": [
    "from zeep import Client\n",
    "import zeep\n",
    "from zeep.wsse.username import UsernameToken"
   ]
  },
  {
   "cell_type": "code",
   "execution_count": null,
   "metadata": {},
   "outputs": [],
   "source": [
    "client = Client('https://servicoshm.saude.gov.br/cnes/EstabelecimentoSaudeService/v1r0?wsdl', wsse=UsernameToken('CNES.PUBLICO', 'cnes#2015public'))"
   ]
  },
  {
   "cell_type": "code",
   "execution_count": null,
   "metadata": {},
   "outputs": [],
   "source": [
    "##Mostrar as informações do WSDL\n",
    "client.wsdl.dump()"
   ]
  },
  {
   "cell_type": "code",
   "execution_count": 50,
   "metadata": {},
   "outputs": [],
   "source": [
    "request_data = {\n",
    "    'FiltroPesquisaEstabelecimentoSaude': {\n",
    "        'CodigoCNES': {\n",
    "            'codigo': 2653982\n",
    "        }\n",
    "    },\n",
    "}"
   ]
  },
  {
   "cell_type": "code",
   "execution_count": null,
   "metadata": {},
   "outputs": [],
   "source": [
    "response = client.service.consultarEstabelecimentoSaude(**request_data)"
   ]
  },
  {
   "cell_type": "code",
   "execution_count": null,
   "metadata": {},
   "outputs": [],
   "source": [
    "print (response)"
   ]
  },
  {
   "cell_type": "code",
   "execution_count": 2,
   "metadata": {},
   "outputs": [],
   "source": [
    "import pandas\n",
    "import time"
   ]
  },
  {
   "cell_type": "code",
   "execution_count": 3,
   "metadata": {},
   "outputs": [],
   "source": [
    "data_frame = pandas.read_csv('listas/municipios.csv', sep=';')"
   ]
  },
  {
   "cell_type": "code",
   "execution_count": null,
   "metadata": {},
   "outputs": [],
   "source": [
    "data_frame"
   ]
  },
  {
   "cell_type": "code",
   "execution_count": null,
   "metadata": {},
   "outputs": [],
   "source": [
    "data_frame.MUNICIPIO"
   ]
  },
  {
   "cell_type": "code",
   "execution_count": 5,
   "metadata": {},
   "outputs": [],
   "source": [
    "client_cnes_service = Client('https://servicoshm.saude.gov.br/cnes/CnesService/v1r0?wsdl', wsse=UsernameToken('CNES.PUBLICO', 'cnes#2015public'))"
   ]
  },
  {
   "cell_type": "code",
   "execution_count": null,
   "metadata": {},
   "outputs": [],
   "source": [
    "for row in data_frame.itertuples():\n",
    "    file_name = 'resultados/%s/%s/estabelecimenos.csv' % (row.UF, row.MUNICIPIO) \n",
    "    \n",
    "    request_data = {\n",
    "        'FiltroPesquisaEstabelecimentoSaude': {\n",
    "            'CodigoCNES': {\n",
    "                'codigo': row.MUNICIPIO\n",
    "            }\n",
    "        },\n",
    "    }\n",
    "    \n",
    "    response = client_cnes_service.service.consultarEstabelecimentoSaudePorMunicipio(**request_data_municipio)\n",
    "    serialized_response = zeep.helpers.serialize_object(response[0])\n",
    "    \n",
    "    response_df = pandas.DataFrame(serialized_response['DadosBasicosEstabelecimento'])\n",
    "    response_df['codigo_tratado'] = response_df.CodigoCNES.apply(lambda x: x['codigo'])\n",
    "    response_df['nome_tratado'] = response_df.NomeFantasia.apply(lambda x: x['Nome'])\n",
    "    \n",
    "    response_df.to_csv(file_name, encoding='utf-8', index=False, columns=['codigo_tratado','nome_tratado'])\n",
    "    "
   ]
  },
  {
   "cell_type": "code",
   "execution_count": 54,
   "metadata": {},
   "outputs": [],
   "source": [
    "response = client_cnes_service.service.consultarEstabelecimentoSaudePorMunicipio(**request_data_municipio)"
   ]
  },
  {
   "cell_type": "code",
   "execution_count": 55,
   "metadata": {},
   "outputs": [],
   "source": [
    "serialized_response = zeep.helpers.serialize_object(response[0])"
   ]
  },
  {
   "cell_type": "code",
   "execution_count": 64,
   "metadata": {},
   "outputs": [],
   "source": [
    "response_df = pandas.DataFrame(serialized_response['DadosBasicosEstabelecimento'])"
   ]
  },
  {
   "cell_type": "code",
   "execution_count": 65,
   "metadata": {},
   "outputs": [],
   "source": [
    "tratado_df = response_df"
   ]
  },
  {
   "cell_type": "code",
   "execution_count": 66,
   "metadata": {},
   "outputs": [],
   "source": [
    "tratado_df['codigo_tratado'] = tratado_df.CodigoCNES.apply(lambda x: x['codigo'])"
   ]
  },
  {
   "cell_type": "code",
   "execution_count": 67,
   "metadata": {},
   "outputs": [],
   "source": [
    "tratado_df['nome_tratado'] = tratado_df.NomeFantasia.apply(lambda x: x['Nome'])"
   ]
  },
  {
   "cell_type": "code",
   "execution_count": null,
   "metadata": {},
   "outputs": [],
   "source": [
    "tratado_df"
   ]
  },
  {
   "cell_type": "code",
   "execution_count": 69,
   "metadata": {},
   "outputs": [],
   "source": [
    "file_name = 'resultados/%s/%s/estabelecimentos.csv' % ('RN', '240810')"
   ]
  },
  {
   "cell_type": "code",
   "execution_count": 72,
   "metadata": {},
   "outputs": [],
   "source": [
    "tratado_df.to_csv(file_name, encoding='utf-8', index=False, columns=['codigo_tratado','nome_tratado'])"
   ]
  },
  {
   "cell_type": "code",
   "execution_count": null,
   "metadata": {},
   "outputs": [],
   "source": []
  }
 ],
 "metadata": {
  "kernelspec": {
   "display_name": "Python 3",
   "language": "python",
   "name": "python3"
  },
  "language_info": {
   "codemirror_mode": {
    "name": "ipython",
    "version": 3
   },
   "file_extension": ".py",
   "mimetype": "text/x-python",
   "name": "python",
   "nbconvert_exporter": "python",
   "pygments_lexer": "ipython3",
   "version": "3.6.4"
  }
 },
 "nbformat": 4,
 "nbformat_minor": 2
}
