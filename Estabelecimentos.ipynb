{
 "cells": [
  {
   "cell_type": "code",
   "execution_count": 1,
   "metadata": {},
   "outputs": [],
   "source": [
    "from zeep import Client\n",
    "import zeep\n",
    "from zeep.wsse.username import UsernameToken"
   ]
  },
  {
   "cell_type": "code",
   "execution_count": null,
   "metadata": {},
   "outputs": [],
   "source": [
    "client = Client('https://servicoshm.saude.gov.br/cnes/EstabelecimentoSaudeService/v1r0?wsdl', wsse=UsernameToken('CNES.PUBLICO', 'cnes#2015public'))"
   ]
  },
  {
   "cell_type": "code",
   "execution_count": 50,
   "metadata": {},
   "outputs": [],
   "source": [
    "request_data = {\n",
    "    'FiltroPesquisaEstabelecimentoSaude': {\n",
    "        'CodigoCNES': {\n",
    "            'codigo': 2653982\n",
    "        }\n",
    "    },\n",
    "}"
   ]
  },
  {
   "cell_type": "code",
   "execution_count": 6,
   "metadata": {},
   "outputs": [],
   "source": [
    "import pandas\n",
    "import time"
   ]
  },
  {
   "cell_type": "code",
   "execution_count": 7,
   "metadata": {},
   "outputs": [],
   "source": [
    "data_frame = pandas.read_csv('listas/municipios.csv', sep=';')"
   ]
  },
  {
   "cell_type": "code",
   "execution_count": 8,
   "metadata": {},
   "outputs": [],
   "source": [
    "client_cnes_service = Client('https://servicoshm.saude.gov.br/cnes/CnesService/v1r0?wsdl', wsse=UsernameToken('CNES.PUBLICO', 'cnes#2015public'))"
   ]
  },
  {
   "cell_type": "code",
   "execution_count": 16,
   "metadata": {},
   "outputs": [
    {
     "name": "stdout",
     "output_type": "stream",
     "text": [
      "130100\n",
      "150080\n",
      "150240\n",
      "150503\n",
      "210005\n",
      "230440\n",
      "250750\n",
      "261160\n",
      "280030\n",
      "292870\n",
      "291920\n",
      "292740\n",
      "290520\n",
      "310620\n",
      "315780\n",
      "313380\n",
      "315060\n",
      "330022\n",
      "330385\n",
      "330455\n",
      "350880\n",
      "350950\n",
      "352590\n",
      "355030\n",
      "411840\n",
      "410250\n",
      "410690\n",
      "420775\n",
      "420945\n",
      "421505\n",
      "420240\n",
      "431890\n",
      "431900\n",
      "430460\n",
      "431490\n",
      "431640\n",
      "520870\n",
      "530010\n"
     ]
    }
   ],
   "source": [
    "for row in data_frame.itertuples():\n",
    "    file_name = 'resultados/%s/%s/estabelecimentos.csv' % (row.UF, row.MUNICIPIO) \n",
    "    \n",
    "    request_data_municipio = {\n",
    "        'Municipio': {\n",
    "            'codigoMunicipio': row.MUNICIPIO\n",
    "        }\n",
    "    }\n",
    "    \n",
    "    try:\n",
    "        response = client_cnes_service.service.consultarEstabelecimentoSaudePorMunicipio(**request_data_municipio)\n",
    "        serialized_response = zeep.helpers.serialize_object(response[0])\n",
    "    \n",
    "        response_df = pandas.DataFrame(serialized_response['DadosBasicosEstabelecimento'])\n",
    "        response_df['codigo_tratado'] = response_df.CodigoCNES.apply(lambda x: x['codigo'])\n",
    "        response_df['nome_tratado'] = response_df.NomeFantasia.apply(lambda x: x['Nome'])\n",
    "\n",
    "        response_df.to_csv(file_name, encoding='utf-8', index=False, columns=['codigo_tratado','nome_tratado'])\n",
    "        \n",
    "    except:\n",
    "        print (row.MUNICIPIO)\n",
    "    \n",
    "    #time.sleep(10)\n",
    "    "
   ]
  },
  {
   "cell_type": "code",
   "execution_count": null,
   "metadata": {},
   "outputs": [],
   "source": []
  }
 ],
 "metadata": {
  "kernelspec": {
   "display_name": "Python 3",
   "language": "python",
   "name": "python3"
  },
  "language_info": {
   "codemirror_mode": {
    "name": "ipython",
    "version": 3
   },
   "file_extension": ".py",
   "mimetype": "text/x-python",
   "name": "python",
   "nbconvert_exporter": "python",
   "pygments_lexer": "ipython3",
   "version": "3.6.4"
  }
 },
 "nbformat": 4,
 "nbformat_minor": 2
}
