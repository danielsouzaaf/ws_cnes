{
 "cells": [
  {
   "cell_type": "code",
   "execution_count": null,
   "metadata": {},
   "outputs": [],
   "source": [
    "##Instalar pacote de requisições SOAP\n",
    "import sys\n",
    "!{sys.executable} -m pip install zeep"
   ]
  },
  {
   "cell_type": "code",
   "execution_count": null,
   "metadata": {},
   "outputs": [],
   "source": [
    "from zeep import Client\n",
    "from zeep.wsse.username import UsernameToken"
   ]
  },
  {
   "cell_type": "code",
   "execution_count": null,
   "metadata": {},
   "outputs": [],
   "source": [
    "client = Client('https://servicos.saude.gov.br/cnes/EstabelecimentoSaudeService/v1r0?wsdl', wsse=UsernameToken('CNES.PUBLICO', 'cnes#2015public'))"
   ]
  },
  {
   "cell_type": "code",
   "execution_count": null,
   "metadata": {},
   "outputs": [],
   "source": [
    "client"
   ]
  },
  {
   "cell_type": "code",
   "execution_count": null,
   "metadata": {},
   "outputs": [],
   "source": [
    "python -mzeep https://servicos.saude.gov.br/cnes/EstabelecimentoSaudeService/v1r0?wsdl"
   ]
  },
  {
   "cell_type": "code",
   "execution_count": null,
   "metadata": {},
   "outputs": [],
   "source": [
    "zeep https://servicos.saude.gov.br/cnes/EstabelecimentoSaudeService/v1r0?wsdl"
   ]
  },
  {
   "cell_type": "code",
   "execution_count": null,
   "metadata": {},
   "outputs": [],
   "source": [
    "%run python -mzeep https://servicos.saude.gov.br/cnes/EstabelecimentoSaudeService/v1r0?wsdl"
   ]
  },
  {
   "cell_type": "code",
   "execution_count": null,
   "metadata": {},
   "outputs": [],
   "source": [
    "##Mostrar as informações do WSDL\n",
    "client.wsdl.dump()"
   ]
  },
  {
   "cell_type": "code",
   "execution_count": null,
   "metadata": {},
   "outputs": [],
   "source": [
    "request_data = {\n",
    "    'FiltroPesquisaEstabelecimentoSaude': {\n",
    "        'CodigoCNES': {\n",
    "            'codigo' : 2530031\n",
    "        }\n",
    "    },\n",
    "}"
   ]
  },
  {
   "cell_type": "code",
   "execution_count": 33,
   "metadata": {},
   "outputs": [],
   "source": [
    "response = client.service.consultarEstabelecimentoSaude(**request_data)"
   ]
  },
  {
   "cell_type": "code",
   "execution_count": 34,
   "metadata": {},
   "outputs": [
    {
     "name": "stdout",
     "output_type": "stream",
     "text": [
      "{\n",
      "    'CodigoCNES': {\n",
      "        'codigo': '2530031'\n",
      "    },\n",
      "    'CodigoUnidade': {\n",
      "        'codigo': '2102002530031'\n",
      "    },\n",
      "    'nomeFantasia': {\n",
      "        'Nome': 'HOSPITAL ADROALDO ALVES MATOS'\n",
      "    },\n",
      "    'nomeEmpresarial': {\n",
      "        'Nome': 'PREFEITURA MUNICIPAL DE BOM JARDIM'\n",
      "    },\n",
      "    'CNPJ': None,\n",
      "    'Endereco': {\n",
      "        'identificador': None,\n",
      "        'TipoEndereco': None,\n",
      "        'TipoLogradouro': None,\n",
      "        'nomeLogradouro': 'AV JOSE PEDRO VASCONCELOS',\n",
      "        'numero': 'S/N',\n",
      "        'complemento': 'BR 316',\n",
      "        'Bairro': {\n",
      "            'codigoBairro': None,\n",
      "            'descricaoBairro': 'CENTRO'\n",
      "        },\n",
      "        'CEP': {\n",
      "            'numeroCEP': '65380000'\n",
      "        },\n",
      "        'Municipio': {\n",
      "            'codigoMunicipio': '210200',\n",
      "            'nomeMunicipio': 'BOM JARDIM',\n",
      "            'UF': {\n",
      "                'codigoUF': '21',\n",
      "                'siglaUF': 'MA',\n",
      "                'codigoRegiao': None,\n",
      "                'nomeUF': None\n",
      "            }\n",
      "        },\n",
      "        'Pais': None,\n",
      "        'municipioInternacional': None\n",
      "    },\n",
      "    'dataAtualizacao': datetime.date(2018, 1, 3),\n",
      "    'Diretor': {\n",
      "        'CPF': {\n",
      "            'numeroCPF': '13447700378'\n",
      "        },\n",
      "        'nome': {\n",
      "            'Nome': 'IRINALDO LOPES SOBRINHO'\n",
      "        }\n",
      "    },\n",
      "    'tipoUnidade': {\n",
      "        'codigo': '05',\n",
      "        'descricao': 'HOSPITAL GERAL'\n",
      "    },\n",
      "    'esferaAdministrativa': None,\n",
      "    'MunicipioGestor': None,\n",
      "    'Telefone': [\n",
      "        {\n",
      "            'identificador': None,\n",
      "            'TipoTelefone': {\n",
      "                'codigoTipoTelefone': '2',\n",
      "                'descricaoTipoTelefone': 'COMERCIAL'\n",
      "            },\n",
      "            'DDI': None,\n",
      "            'DDD': 98,\n",
      "            'numeroTelefone': 36642130\n",
      "        },\n",
      "        {\n",
      "            'identificador': None,\n",
      "            'TipoTelefone': {\n",
      "                'codigoTipoTelefone': '4',\n",
      "                'descricaoTipoTelefone': 'FAX'\n",
      "            },\n",
      "            'DDI': None,\n",
      "            'DDD': 98,\n",
      "            'numeroTelefone': 36642130\n",
      "        }\n",
      "    ],\n",
      "    'Email': None,\n",
      "    'Localizacao': {\n",
      "        'longitude': '-45.99400',\n",
      "        'latitude': '-3.56500',\n",
      "        'geoJson': '{\"type\":\"Feature\",\"geometry\":{\"type\":\"Point\",\"coordinates\":[\"-45.99400\",\"-3.56500\"]}}'\n",
      "    },\n",
      "    'perteceSistemaSUS': True\n",
      "}\n"
     ]
    }
   ],
   "source": [
    "print (response)"
   ]
  },
  {
   "cell_type": "code",
   "execution_count": null,
   "metadata": {},
   "outputs": [],
   "source": []
  },
  {
   "cell_type": "code",
   "execution_count": null,
   "metadata": {},
   "outputs": [],
   "source": []
  },
  {
   "cell_type": "code",
   "execution_count": null,
   "metadata": {},
   "outputs": [],
   "source": []
  },
  {
   "cell_type": "code",
   "execution_count": null,
   "metadata": {},
   "outputs": [],
   "source": []
  },
  {
   "cell_type": "code",
   "execution_count": null,
   "metadata": {},
   "outputs": [],
   "source": []
  },
  {
   "cell_type": "code",
   "execution_count": null,
   "metadata": {},
   "outputs": [],
   "source": []
  },
  {
   "cell_type": "code",
   "execution_count": null,
   "metadata": {},
   "outputs": [],
   "source": []
  }
 ],
 "metadata": {
  "kernelspec": {
   "display_name": "Python 3",
   "language": "python",
   "name": "python3"
  },
  "language_info": {
   "codemirror_mode": {
    "name": "ipython",
    "version": 3
   },
   "file_extension": ".py",
   "mimetype": "text/x-python",
   "name": "python",
   "nbconvert_exporter": "python",
   "pygments_lexer": "ipython3",
   "version": "3.6.3"
  }
 },
 "nbformat": 4,
 "nbformat_minor": 2
}
